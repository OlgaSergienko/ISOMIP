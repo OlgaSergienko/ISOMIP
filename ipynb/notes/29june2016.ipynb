{
 "cells": [
  {
   "cell_type": "markdown",
   "metadata": {},
   "source": [
    "# Notes from June 29th 2016 #\n",
    "\n",
    "#### 1) We need to come up with a better way to define the terrain-following coordinate. Alistar mentioned the idea of making the top layer very thick outside the ice shelf to avoid a large pressure gradient jump.\n",
    "\n",
    "#### 2) Issue with sponge layer\n",
    "\n",
    "#### 3) Run the 2D noIS cases for 10 years and plot the max. velo. in a log scale so we can check how energy behaves in the different setups.\n",
    "\n",
    "#### 4) How do we define z* in the presence of an ice shelf? we will need to address this question at some point.\n",
    "\n",
    "#### 5) Run some cases with KD = 1E-6 (i.e., molecular diff.) to find hout how much vel. is generated under this condition. This will help us define how much spurious vel. we should accept in the quiet experiments.\n",
    "\n",
    "#### 6) Make a plot of 1/H to check if there are closed contours. This could lead to the so-called \"Taylor Caps\"\n",
    "\n",
    "#### 7) Issues with ALE rho.  \n",
    "       PS: I was able to get better resulls with ALE rho by using BOUNDARY_EXTRAPOLATION = True, INTERPOLATION_SCHEME = \"PLM\" and REMAPPING_SCHEME = \"PPM_H4\". Before I was using INTERPOLATION_SCHEME = \"P1M_H4\" and BOUNDARY_EXTRAPOLATION = TruFalseeeeeeeeeeeeeeeeeeeeeeeeeeeeeeeeeeeeeeeeeeeeeeeeeeeeeeee(PPM_H4 does not work in rho)."
   ]
  },
  {
   "cell_type": "code",
   "execution_count": 2,
   "metadata": {
    "collapsed": false
   },
   "outputs": [],
   "source": [
    "from matplotlib import pyplot as plt\n",
    "%matplotlib inline\n",
    "import sys\n",
    "sys.path.append('../../plotting/')\n",
    "from plotting import *\n",
    "import netCDF4\n",
    "import numpy as np"
   ]
  },
  {
   "cell_type": "code",
   "execution_count": null,
   "metadata": {
    "collapsed": true
   },
   "outputs": [],
   "source": []
  }
 ],
 "metadata": {
  "kernelspec": {
   "display_name": "Python 2",
   "language": "python",
   "name": "python2"
  },
  "language_info": {
   "codemirror_mode": {
    "name": "ipython",
    "version": 2
   },
   "file_extension": ".py",
   "mimetype": "text/x-python",
   "name": "python",
   "nbconvert_exporter": "python",
   "pygments_lexer": "ipython2",
   "version": "2.7.11"
  }
 },
 "nbformat": 4,
 "nbformat_minor": 0
}
