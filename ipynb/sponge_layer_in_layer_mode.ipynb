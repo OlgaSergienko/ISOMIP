{
 "cells": [
  {
   "cell_type": "markdown",
   "metadata": {},
   "source": [
    "# Applying sponge layers in layer mode  #\n",
    "\n",
    "We need to properly apply a sponge layer when using the isopycnal \"layer\" mode. I have added the option to use the layer-mode sponge structure into the ISOMIP sponge code, see [here](https://github.com/gustavo-marques/MOM6/blob/just_isomip_ice_shelf_src/src/user/ISOMIP_initialization.F90#L327). However, so far this code just restore the interfaces. We also need to restore tracers towards a fixed profiles, similarly to what is done in the ALE mode. I believe Bob knows how to do that."
   ]
  }
 ],
 "metadata": {
  "kernelspec": {
   "display_name": "Python 2",
   "language": "python",
   "name": "python2"
  },
  "language_info": {
   "codemirror_mode": {
    "name": "ipython",
    "version": 2
   },
   "file_extension": ".py",
   "mimetype": "text/x-python",
   "name": "python",
   "nbconvert_exporter": "python",
   "pygments_lexer": "ipython2",
   "version": "2.7.9"
  }
 },
 "nbformat": 4,
 "nbformat_minor": 0
}
