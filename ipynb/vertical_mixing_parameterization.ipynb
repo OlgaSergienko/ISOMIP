{
 "cells": [
  {
   "cell_type": "markdown",
   "metadata": {},
   "source": [
    "# Suggested vertical mixing for ISOMIP #\n",
    "\n",
    "The following was copied from the [ISOMIP+ experimental design description](http://www.geosci-model-dev-discuss.net/8/9859/2015/gmdd-8-9859-2015.pdf) (pg. 9885):\n",
    "\n",
    "\"Because vertical mixing is a strong function of the distance z0 = |z −zb| from the ice-ocean interface, the heat- and salt-transfer coefficients, gamma_T and gamma_S, are also expected to vary with this distance (McPhee et al., 1987; Jenkins et al., 2010). Sophisticated parameterizations of vertical mixing are presumably required to adequately capture this variability, but such work lies outside the scope of this MIP. Theory suggests that most of the z0-dependence of gamma_S and (to a lesser extent) gamma_T occurs for z<2m (McPhee et al., 1987). However, the theory holds that transfer coefficients are only fully independent of z0 when the far-field T and S are sampled outside the turbulent boundary layer. We do not have a broadly accepted theory for how vertical viscosity and diffusivity should vary through the turbulent boundary layer. For simplicity, the COM simulation prescribes constant vertical mixing coefficients (see Sect. 3.1.6), meaning that vertical mixing is not likely to be represented accurately within the boundary layer. Indeed, preliminary results suggest that the melt rates will not converge with vertical resolution in\n",
    "the COM configuration (with constant gamma_T and gamma_S) unless the thickness of the boundary layer is held fixed, independent of the resolution. **We prescribe the boundary-layer thickness to be 20 m. Participants should compute the far-field potential temperature, salinity and velocity (Tw, Sw and uw) either by averaging over the top 20 m (similar to Losch, 2008) or by sampling at a fixed distance z0 = 10 m below the interface (following the approach of Kimura et al., 2013)**. The values for gamma_T and gamma_S given in Table 4 were calibrated using the Losch (2008) approach in simulations from the Parallel Ocean Program version 2 extended (POP2x). Transfer coefficients were calibrated so that the maximum melt rate in the first ISOMIP+ experiment (see Sect. 3.2) was ~ 80 m yr−1, on the order of inferred melt rates near the grounding line of Pine Island Ice Shelf (Dutrieux et al., 2013). Models that are not able to support a boundary-layer of the prescribed 20 m thickness will need to modify the drag coefficient Cd and/or the transfer coefficients gamma_T and gamma_S to arrive at a similar maximum melt rate, in which case this should be noted in the readme. The ratio of gamma_T to gamma_S should remain a factor of ∼ 35.\""
   ]
  }
 ],
 "metadata": {
  "kernelspec": {
   "display_name": "Python 3",
   "language": "python",
   "name": "python3"
  },
  "language_info": {
   "codemirror_mode": {
    "name": "ipython",
    "version": 3
   },
   "file_extension": ".py",
   "mimetype": "text/x-python",
   "name": "python",
   "nbconvert_exporter": "python",
   "pygments_lexer": "ipython3",
   "version": "3.5.1"
  }
 },
 "nbformat": 4,
 "nbformat_minor": 0
}
