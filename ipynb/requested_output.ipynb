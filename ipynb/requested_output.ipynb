{
 "cells": [
  {
   "cell_type": "markdown",
   "metadata": {},
   "source": [
    "# Requestes output #\n",
    "\n",
    "The following was copied from the [ISOMIP+ experimental design description](http://www.geosci-model-dev-discuss.net/8/9859/2015/gmdd-8-9859-2015.pdf) (pg. 9889):\n",
    "\n",
    "Participants are asked to supply a single NetCDF4 file for each experiment with the file-naming convention of [expt]_COM_[MODEL].nc, where [expt] is an experiment name from Table 2, COM or TYP indicates the type of run and [MODEL] is a unique identifier for the participant (e.g. the name of the ocean model and/or the\n",
    "institute). We ask participants to provide all fields in 32-bit floating-point precision using the variable and dimension names given in bold and units given in square brackets as follows:\n",
    "\n",
    "– **nx, ny, nz and nTime** dimensions.\n",
    "\n",
    "– **x(nx), y(ny) and z(nz)** [m] cell centers of the output grid as vectors. The origin of the horizontal grid should match MISMIP+ so that the southeast corner of the grid is at x = 320 km and y = 0. The spacing between horizontal points is 2 km and between vertical points is 5 m. \n",
    "\n",
    "– **time(nTime)** [s] from the start of the simulation as a vector running over the full duration\n",
    "of the simulation (20 years for Ocean1 and Ocean2, 100 years for Ocean3 15 and Ocean4). The time interval between entries is one month, using a standard 365 day calendar with no leap years.\n",
    "\n",
    "– **meanMeltRate(nTime)** [m s−1] weq, the melt rate, positive for melting and negative\n",
    "for freezing, averaged over the ice-shelf base.\n",
    "\n",
    "– **totalMeltFlux(nTime)** [kg s−1], the total mass flux of freshwater across the ice–ocean interface, positive for melting and negative for freezing.\n",
    "\n",
    "– **totalOceanVolume(nTime)** [m3], the total volume of the ocean.\n",
    "\n",
    "– **meanTemperature(nTime)** [◦C], the potential temperature averaged over the ocean volume.\n",
    "\n",
    "– **meanSalinity(nTime)** [PSU], the salinity averaged over the ocean volume.\n",
    "\n",
    "– **temperatureXZ(nTime,nz,nx) [◦C] and salinityXZ(nTime,nz,nx)** [PSU], the potential\n",
    "temperature and salinity slices in x–z plane through the center of the domain,\n",
    "y = 40 km.\n",
    "\n",
    "– **temperatureYZ(nTime,nz,ny) [◦C] and salinityYZ(nTime,nz,ny)** [PSU], the potential temperature and salinity slices in y–z plane outside the cavity x = 520 km.\n",
    "\n",
    "Invalid values (e.g. field locations that lie within the ice shelf or bedrock) should be masked out using a fill value. In C and Fortran, this can be accomplished by assigning a value of NC_FILL_FLOAT. In Python, invalid data can be masked by using numpy masked arrays to assign to netCDF4 variables. We ask participants to supply monthly mean values of all time-dependent quantities (except iceDraft and bathymetry, which should be snapshots), where the values in the time array indicate the beginning of the period being averaged. Participants who\n",
    "are unable to compute monthly mean values may supply snapshots instead but should\n",
    "indicate this with their submission."
   ]
  }
 ],
 "metadata": {
  "kernelspec": {
   "display_name": "Python 3",
   "language": "python",
   "name": "python3"
  },
  "language_info": {
   "codemirror_mode": {
    "name": "ipython",
    "version": 3
   },
   "file_extension": ".py",
   "mimetype": "text/x-python",
   "name": "python",
   "nbconvert_exporter": "python",
   "pygments_lexer": "ipython3",
   "version": "3.5.1"
  }
 },
 "nbformat": 4,
 "nbformat_minor": 0
}
