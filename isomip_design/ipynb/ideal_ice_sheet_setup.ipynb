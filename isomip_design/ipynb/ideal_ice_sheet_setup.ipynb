{
 "cells": [
  {
   "cell_type": "code",
   "execution_count": 10,
   "metadata": {
    "collapsed": false
   },
   "outputs": [
    {
     "data": {
      "text/plain": [
       "(240, 4)"
      ]
     },
     "execution_count": 10,
     "metadata": {},
     "output_type": "execute_result"
    }
   ],
   "source": [
    "import netCDF4\n",
    "import numpy as np\n",
    "from scipy.ndimage.filters import gaussian_filter\n",
    "import matplotlib.pyplot as plt\n",
    "from scipy.interpolate import interp1d\n",
    "from scipy.signal import savgol_filter\n",
    "%matplotlib inline\n",
    "# read provided netcdf\n",
    "ncpath='../ncfiles/Ocean1_input_geom_v1.01.nc'\n",
    "x = netCDF4.Dataset(ncpath).variables['x'][::2]\n",
    "y = netCDF4.Dataset(ncpath).variables['y'][::2]\n",
    "[X,Y]=np.meshgrid(x/1.0e3,y/1.0e3)\n",
    "\n",
    "# read 3D file\n",
    "file3D = netCDF4.Dataset('../ncfiles/Ideal_3D.nc','r+')\n",
    "area3D=file3D.variables['area'][:]\n",
    "# read 3D file\n",
    "file2D = netCDF4.Dataset('../ncfiles/Ideal_2D.nc','r+')\n",
    "area2D=file2D.variables['area'][:]\n",
    "\n",
    "area2D.shape"
   ]
  },
  {
   "cell_type": "code",
   "execution_count": 11,
   "metadata": {
    "collapsed": false
   },
   "outputs": [
    {
     "name": "stdout",
     "output_type": "stream",
     "text": [
      "240\n"
     ]
    },
    {
     "name": "stderr",
     "output_type": "stream",
     "text": [
      "/ncrc/home2/Gustavo.Marques/anaconda2/lib/python2.7/site-packages/numpy/lib/polynomial.py:594: RankWarning: Polyfit may be poorly conditioned\n",
      "  warnings.warn(msg, RankWarning)\n"
     ]
    },
    {
     "data": {
      "image/png": "[encoded data removed]",
      "text/plain": [
       "<matplotlib.figure.Figure at 0x2b3d9482c750>"
      ]
     },
     "metadata": {},
     "output_type": "display_data"
    },
    {
     "data": {
      "image/png": "[encoded data removed]",
      "text/plain": [
       "<matplotlib.figure.Figure at 0x2b3d948e6b90>"
      ]
     },
     "metadata": {},
     "output_type": "display_data"
    }
   ],
   "source": [
    "xx=np.array([350,360,640,650])*1.0e3\n",
    "yy=[-660,-650,-200,-200]\n",
    "\n",
    "p = np.poly1d(np.polyfit(xx, yy, 5))\n",
    "lower=p(x)\n",
    "plt.figure()\n",
    "plt.plot(x/1.0e3,lower)\n",
    "plt.plot(xx/1.0e3,yy,'ro')\n",
    "plt.xlim(320,700)\n",
    "upper=np.ones(len(x))*100.\n",
    "a=np.nonzero(x<=350*1.0e3)[-1][-1]\n",
    "b=np.nonzero(x>=650*1.0e3)[0][0]\n",
    "#print x[a],x[b]\n",
    "upper[b+1::]=0.0\n",
    "lower[0:a+1]=-660;lower[b+1::]=0.0\n",
    " \n",
    "thick = upper - lower\n",
    "# plot\n",
    "plt.figure(figsize=(12,6))\n",
    "plt.plot(x/1.0e3,lower,'g')\n",
    "print len(upper)\n",
    "#plt.xlim(300,350)"
   ]
  },
  {
   "cell_type": "code",
   "execution_count": 12,
   "metadata": {
    "collapsed": false
   },
   "outputs": [],
   "source": [
    "# put into netcdf files\n",
    "area2D = np.ones((area2D.shape))* (x[1]-x[0]) * (y[1]-y[0])\n",
    "area3D = np.ones((area3D.shape))* (x[1]-x[0]) * (y[1]-y[0])\n",
    "upper2D = np.ones((area2D.shape))\n",
    "upper3D = np.ones((area3D.shape))\n",
    "lower2D = np.ones((area2D.shape))\n",
    "lower3D = np.ones((area3D.shape))\n",
    "\n",
    "# 2D\n",
    "for i in range(area2D.shape[1]):\n",
    "    upper2D[:,i]=upper[:]\n",
    "    lower2D[:,i]=lower[:]\n",
    "    \n",
    "thick2D=upper2D - lower2D\n",
    "area2D[thick2D==0.0]=0.0\n",
    "\n",
    "# 3D\n",
    "for i in range(area3D.shape[1]):\n",
    "    upper3D[:,i]=upper[:]\n",
    "    lower3D[:,i]=lower[:]\n",
    "    \n",
    "thick3D=upper3D - lower3D\n",
    "area3D[thick3D==0.0]=0.0\n",
    "\n",
    "# 3D\n",
    "file3D.variables['area'][:,:] = area3D[:,:]\n",
    "file3D.variables['thick'][:,:] = thick3D[:,:]\n",
    "file3D.variables['height'][:,:] = lower3D[:,:]\n",
    "\n",
    "# 2D (middle of the domain)\n",
    "file2D.variables['area'][:,:] = area2D[:,:]\n",
    "file2D.variables['thick'][:,:] = thick2D[:,:]\n",
    "file2D.variables['height'][:,:] = lower2D[:,:]\n",
    "\n",
    "file2D.close()\n",
    "file3D.close()"
   ]
  }
 ],
 "metadata": {
  "kernelspec": {
   "display_name": "Python 2",
   "language": "python",
   "name": "python2"
  },
  "language_info": {
   "codemirror_mode": {
    "name": "ipython",
    "version": 2
   },
   "file_extension": ".py",
   "mimetype": "text/x-python",
   "name": "python",
   "nbconvert_exporter": "python",
   "pygments_lexer": "ipython2",
   "version": "2.7.11"
  }
 },
 "nbformat": 4,
 "nbformat_minor": 0
}
